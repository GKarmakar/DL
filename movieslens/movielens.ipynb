{
 "cells": [
  {
   "cell_type": "markdown",
   "metadata": {},
   "source": [
    "Dataset: \n",
    "    (userid,movieid): rating\n",
    "Approach:\n",
    "    50 latent factors for users and movies. Can use embeddings(int=>latent factors) instead of one hot encoding users/movies\n",
    "\n",
    "Models we tried out\n",
    "    Dot product\n",
    "    Dot product with (Regularization?)\n",
    "    Bias with regularization\n",
    "    Adding bias, as some movies might be more popular than others. And some users might watch more movies than others and rate more/less than others.\n",
    "    Dot (latent factors) + bias(u + m)\n",
    "    Neural net, (no bias?)\n",
    "\n",
    "Analyze:\n",
    "    PCA to squish 50 latent factors to 3 and plot them\n",
    "    [TODO]"
   ]
  },
  {
   "cell_type": "markdown",
   "metadata": {},
   "source": [
    "# Read data"
   ]
  },
  {
   "cell_type": "code",
   "execution_count": null,
   "metadata": {
    "collapsed": true
   },
   "outputs": [],
   "source": []
  }
 ],
 "metadata": {
  "anaconda-cloud": {},
  "kernelspec": {
   "display_name": "Python [conda root]",
   "language": "python",
   "name": "conda-root-py"
  },
  "language_info": {
   "codemirror_mode": {
    "name": "ipython",
    "version": 2
   },
   "file_extension": ".py",
   "mimetype": "text/x-python",
   "name": "python",
   "nbconvert_exporter": "python",
   "pygments_lexer": "ipython2",
   "version": "2.7.12"
  }
 },
 "nbformat": 4,
 "nbformat_minor": 1
}
