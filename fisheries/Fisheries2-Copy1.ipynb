{
 "cells": [
  {
   "cell_type": "markdown",
   "metadata": {},
   "source": [
    "# Data path"
   ]
  },
  {
   "cell_type": "code",
   "execution_count": 2,
   "metadata": {
    "collapsed": true
   },
   "outputs": [],
   "source": [
    "path = \"/home/ubuntu/data/fisheries/\""
   ]
  },
  {
   "cell_type": "markdown",
   "metadata": {},
   "source": [
    "# Imports"
   ]
  },
  {
   "cell_type": "code",
   "execution_count": 3,
   "metadata": {
    "collapsed": true
   },
   "outputs": [],
   "source": [
    "%matplotlib inline\n",
    "#from theano.sandbox import cuda\n",
    "#from __future__ import division, print_function"
   ]
  },
  {
   "cell_type": "code",
   "execution_count": 4,
   "metadata": {
    "collapsed": false
   },
   "outputs": [
    {
     "name": "stderr",
     "output_type": "stream",
     "text": [
      "Using Theano backend.\n",
      "Using gpu device 0: Tesla K80 (CNMeM is disabled, cuDNN 5103)\n",
      "/home/ubuntu/anaconda2/lib/python2.7/site-packages/theano/sandbox/cuda/__init__.py:600: UserWarning: Your cuDNN version is more recent than the one Theano officially supports. If you see any problems, try updating Theano or downgrading cuDNN to version 5.\n",
      "  warnings.warn(warn)\n"
     ]
    }
   ],
   "source": [
    "import sys\n",
    "sys.path.append('PreTrainedModels')\n",
    "import vgg16bn; reload(vgg16bn)\n",
    "from vgg16bn import Vgg16BN"
   ]
  },
  {
   "cell_type": "code",
   "execution_count": 5,
   "metadata": {
    "collapsed": false
   },
   "outputs": [],
   "source": [
    "import sys\n",
    "sys.path.append('utilities')\n",
    "import utils; reload(utils)\n",
    "from utils import *"
   ]
  },
  {
   "cell_type": "markdown",
   "metadata": {},
   "source": [
    "# Create Adapted VGG model with batch normalization"
   ]
  },
  {
   "cell_type": "code",
   "execution_count": 7,
   "metadata": {
    "collapsed": false
   },
   "outputs": [
    {
     "name": "stdout",
     "output_type": "stream",
     "text": [
      "Finetuned for 8 classes.\n"
     ]
    }
   ],
   "source": [
    "vggbn_model = Vgg16BN(include_top=True)\n",
    "vggbn_model.ft(8)\n",
    "vggbn_model.compile()"
   ]
  },
  {
   "cell_type": "markdown",
   "metadata": {},
   "source": [
    "# Split conv and fc layers"
   ]
  },
  {
   "cell_type": "code",
   "execution_count": 8,
   "metadata": {
    "collapsed": true
   },
   "outputs": [],
   "source": [
    "conv_layers, fc_layers = split_at_last(vggbn_model.model, Convolution2D)"
   ]
  },
  {
   "cell_type": "code",
   "execution_count": 9,
   "metadata": {
    "collapsed": true
   },
   "outputs": [],
   "source": [
    "#Create conv model from conv layers\n",
    "conv_model = Sequential(conv_layers)"
   ]
  },
  {
   "cell_type": "code",
   "execution_count": 61,
   "metadata": {
    "collapsed": false
   },
   "outputs": [],
   "source": [
    "#Create FC model: \n",
    "def get_fc_layers(p, in_shape):\n",
    "    return [\n",
    "        MaxPooling2D(input_shape=in_shape),\n",
    "        Flatten(),\n",
    "        Dense(4096, activation='relu'),\n",
    "        BatchNormalization(),\n",
    "        Dropout(p),\n",
    "        Dense(4096, activation='relu'),\n",
    "        BatchNormalization(),\n",
    "        Dropout(p),\n",
    "        Dense(8, activation='softmax')\n",
    "        ]\n",
    "# TODO - Figure out how to use returned FC layers-> \n",
    "# Exception: You are attempting to share a same `BatchNormalization` layer across different data flows. This is not possible. You should use `mode=2` in `BatchNormalization`, which has a similar behavior but is shareable (see docs for a description of the behavior).\n",
    "# Tried attaching an input layer\n",
    "# inp = Input(shape=conv_layers[-1].output_shape[1:])\n",
    "# fc_layers = [inp] + fc_layers\n",
    "# fc_model = Sequential(fc_layers) -> AttributeError: 'TensorVariable' object has no attribute 'inbound_nodes'\n",
    "# Tried updating input shape of first layer\n",
    "# fc_first_layer = fc_layers[0]\n",
    "# fc_layers=fc_layers[1:]\n",
    "# fc_first_layer = conv_layers[-1].output_shape[1:] -> same BN exception"
   ]
  },
  {
   "cell_type": "code",
   "execution_count": 62,
   "metadata": {
    "collapsed": false
   },
   "outputs": [],
   "source": [
    "layers = get_fc_layers(0.5, conv_layers[-1].output_shape[1:])\n",
    "fc_model = Sequential(layers)"
   ]
  },
  {
   "cell_type": "markdown",
   "metadata": {},
   "source": [
    "# Get data, labels and Generate conv features"
   ]
  },
  {
   "cell_type": "code",
   "execution_count": 12,
   "metadata": {
    "collapsed": false
   },
   "outputs": [
    {
     "name": "stdout",
     "output_type": "stream",
     "text": [
      "Found 3277 images belonging to 8 classes.\n"
     ]
    }
   ],
   "source": [
    "#Get data as numpy arrays\n",
    "trn, trn_labels = get_data(path=path+'train')\n",
    "\n",
    "#TODO: Figure out how can we use batches instead? Advantage: data augmentation?\n",
    "# Can get features in batches using predict_batches\n",
    "# trn_features = conv_model.predict_generator(batches, batch_size)\n",
    "# Can get trn label batches using gen.flow\n",
    "# trn_label_batches = gen.flow(trn_labels, batch_size=batch_size, shuffle=False)\n",
    "# How to use fit with feature and label batches?\n",
    "# fc_model.fit_generator(trn_features, trn_label_batches, nb_epoch = 3, validation_data=(val_features, val_label_batches))"
   ]
  },
  {
   "cell_type": "code",
   "execution_count": 13,
   "metadata": {
    "collapsed": false
   },
   "outputs": [
    {
     "name": "stdout",
     "output_type": "stream",
     "text": [
      "Found 500 images belonging to 8 classes.\n",
      "Found 1000 images belonging to 1 classes.\n"
     ]
    }
   ],
   "source": [
    "val, val_labels = get_data(path=path+'valid')\n",
    "test, test_labels = get_data(path=path+'test') #ignore test_labels"
   ]
  },
  {
   "cell_type": "code",
   "execution_count": 14,
   "metadata": {
    "collapsed": true
   },
   "outputs": [],
   "source": [
    "trn_feat = conv_model.predict(trn)"
   ]
  },
  {
   "cell_type": "code",
   "execution_count": 15,
   "metadata": {
    "collapsed": true
   },
   "outputs": [],
   "source": [
    "val_feat = conv_model.predict(val)\n",
    "test_feat = conv_model.predict(test)"
   ]
  },
  {
   "cell_type": "markdown",
   "metadata": {},
   "source": [
    "# Set up infra for observability"
   ]
  },
  {
   "cell_type": "code",
   "execution_count": 16,
   "metadata": {
    "collapsed": false
   },
   "outputs": [],
   "source": [
    "# Create a list to hold histories\n",
    "historyList = list()"
   ]
  },
  {
   "cell_type": "code",
   "execution_count": 56,
   "metadata": {
    "collapsed": true
   },
   "outputs": [],
   "source": [
    "#Create a ModelCheckpoint to check point at best val_loss\n",
    "from keras.callbacks import ModelCheckpoint\n",
    "def getCheckPoint(name):\n",
    "    filepath=\"results/\" + name + \"{epoch:02d}-{val_acc:.2f}-{val_loss:.2f}.hdf5\"\n",
    "    checkpoint = ModelCheckpoint(filepath, monitor='val_loss', verbose=0, save_best_only=True)\n",
    "    return [checkpoint]"
   ]
  },
  {
   "cell_type": "code",
   "execution_count": null,
   "metadata": {
    "collapsed": true
   },
   "outputs": [],
   "source": [
    "# TODO: Set up Learning rate scheduler? Decay can be set in Adam optimizer but does not seem to be necessary?"
   ]
  },
  {
   "cell_type": "markdown",
   "metadata": {},
   "source": [
    "# Fit conv features on FC model"
   ]
  },
  {
   "cell_type": "code",
   "execution_count": 63,
   "metadata": {
    "collapsed": false,
    "scrolled": true
   },
   "outputs": [],
   "source": [
    "fc_model.compile(optimizer=Adam(), loss = 'categorical_crossentropy', metrics=['accuracy'])"
   ]
  },
  {
   "cell_type": "code",
   "execution_count": 48,
   "metadata": {
    "collapsed": false
   },
   "outputs": [],
   "source": [
    "#fc_model.load_weights('results/MP-F-[D-BN-DO(0.5)]2-D-00-0.99-0.08.hdf5')"
   ]
  },
  {
   "cell_type": "code",
   "execution_count": 44,
   "metadata": {
    "collapsed": false
   },
   "outputs": [
    {
     "name": "stdout",
     "output_type": "stream",
     "text": [
      "3277/3277 [==============================] - 1s     \n"
     ]
    },
    {
     "data": {
      "text/plain": [
       "[0.036002044368637798, 0.996032956972841]"
      ]
     },
     "execution_count": 44,
     "metadata": {},
     "output_type": "execute_result"
    }
   ],
   "source": [
    "#fc_model.evaluate(trn_feat, trn_labels)"
   ]
  },
  {
   "cell_type": "code",
   "execution_count": 23,
   "metadata": {
    "collapsed": false
   },
   "outputs": [
    {
     "name": "stdout",
     "output_type": "stream",
     "text": [
      "Train on 3277 samples, validate on 500 samples\n",
      "Epoch 1/1\n",
      "3277/3277 [==============================] - 10s - loss: 0.1145 - acc: 0.9802 - val_loss: 0.3841 - val_acc: 0.9640\n"
     ]
    }
   ],
   "source": [
    "#Run around 3 epochs before calling ModelCheckPoint call back\n",
    "historyList.append(fc_model.fit(trn_feat, trn_labels, nb_epoch = 1, validation_data=(val_feat, val_labels)))"
   ]
  },
  {
   "cell_type": "code",
   "execution_count": 65,
   "metadata": {
    "collapsed": false
   },
   "outputs": [
    {
     "name": "stdout",
     "output_type": "stream",
     "text": [
      "Train on 3277 samples, validate on 500 samples\n",
      "Epoch 1/40\n",
      "3277/3277 [==============================] - 12s - loss: 0.1074 - acc: 0.9832 - val_loss: 0.5174 - val_acc: 0.9500\n",
      "Epoch 2/40\n",
      "3277/3277 [==============================] - 10s - loss: 0.0944 - acc: 0.9847 - val_loss: 0.5521 - val_acc: 0.9460\n",
      "Epoch 3/40\n",
      "3277/3277 [==============================] - 10s - loss: 0.0981 - acc: 0.9826 - val_loss: 0.5635 - val_acc: 0.9500\n",
      "Epoch 4/40\n",
      "3277/3277 [==============================] - 10s - loss: 0.1232 - acc: 0.9799 - val_loss: 0.6646 - val_acc: 0.9300\n",
      "Epoch 5/40\n",
      "3277/3277 [==============================] - 10s - loss: 0.1430 - acc: 0.9814 - val_loss: 0.6635 - val_acc: 0.9480\n",
      "Epoch 6/40\n",
      "3277/3277 [==============================] - 10s - loss: 0.1296 - acc: 0.9850 - val_loss: 0.5592 - val_acc: 0.9500\n",
      "Epoch 7/40\n",
      "3277/3277 [==============================] - 12s - loss: 0.1236 - acc: 0.9844 - val_loss: 0.5158 - val_acc: 0.9580\n",
      "Epoch 8/40\n",
      "3277/3277 [==============================] - 10s - loss: 0.1004 - acc: 0.9866 - val_loss: 0.7207 - val_acc: 0.9400\n",
      "Epoch 9/40\n",
      "3277/3277 [==============================] - 10s - loss: 0.1297 - acc: 0.9829 - val_loss: 0.5465 - val_acc: 0.9540\n",
      "Epoch 10/40\n",
      "3277/3277 [==============================] - 10s - loss: 0.1351 - acc: 0.9854 - val_loss: 0.5808 - val_acc: 0.9520\n",
      "Epoch 11/40\n",
      "3277/3277 [==============================] - 10s - loss: 0.1450 - acc: 0.9850 - val_loss: 0.5577 - val_acc: 0.9560\n",
      "Epoch 12/40\n",
      "3277/3277 [==============================] - 10s - loss: 0.1012 - acc: 0.9884 - val_loss: 0.5330 - val_acc: 0.9580\n",
      "Epoch 13/40\n",
      "3277/3277 [==============================] - 10s - loss: 0.1227 - acc: 0.9860 - val_loss: 0.5679 - val_acc: 0.9380\n",
      "Epoch 14/40\n",
      "3277/3277 [==============================] - 10s - loss: 0.1090 - acc: 0.9857 - val_loss: 0.7249 - val_acc: 0.9340\n",
      "Epoch 15/40\n",
      "3277/3277 [==============================] - 10s - loss: 0.1408 - acc: 0.9850 - val_loss: 0.7806 - val_acc: 0.9340\n",
      "Epoch 16/40\n",
      "3277/3277 [==============================] - 10s - loss: 0.1273 - acc: 0.9869 - val_loss: 0.7024 - val_acc: 0.9320\n",
      "Epoch 17/40\n",
      "3277/3277 [==============================] - 10s - loss: 0.1268 - acc: 0.9832 - val_loss: 0.6723 - val_acc: 0.9440\n",
      "Epoch 18/40\n",
      "3277/3277 [==============================] - 10s - loss: 0.1076 - acc: 0.9893 - val_loss: 0.8089 - val_acc: 0.9320\n",
      "Epoch 19/40\n",
      "3277/3277 [==============================] - 10s - loss: 0.0987 - acc: 0.9872 - val_loss: 0.6314 - val_acc: 0.9560\n",
      "Epoch 20/40\n",
      "3277/3277 [==============================] - 10s - loss: 0.0782 - acc: 0.9908 - val_loss: 0.6234 - val_acc: 0.9520\n",
      "Epoch 21/40\n",
      "3277/3277 [==============================] - 10s - loss: 0.1005 - acc: 0.9887 - val_loss: 0.6344 - val_acc: 0.9460\n",
      "Epoch 22/40\n",
      "3277/3277 [==============================] - 10s - loss: 0.1095 - acc: 0.9872 - val_loss: 0.9318 - val_acc: 0.9200\n",
      "Epoch 23/40\n",
      "3277/3277 [==============================] - 10s - loss: 0.1803 - acc: 0.9789 - val_loss: 0.7627 - val_acc: 0.9400\n",
      "Epoch 24/40\n",
      "3277/3277 [==============================] - 10s - loss: 0.0819 - acc: 0.9893 - val_loss: 0.6302 - val_acc: 0.9500\n",
      "Epoch 25/40\n",
      "3277/3277 [==============================] - 10s - loss: 0.1009 - acc: 0.9893 - val_loss: 0.7188 - val_acc: 0.9460\n",
      "Epoch 26/40\n",
      "3277/3277 [==============================] - 10s - loss: 0.0971 - acc: 0.9912 - val_loss: 0.6466 - val_acc: 0.9540\n",
      "Epoch 27/40\n",
      "3277/3277 [==============================] - 10s - loss: 0.1214 - acc: 0.9866 - val_loss: 0.6025 - val_acc: 0.9560\n",
      "Epoch 28/40\n",
      "3277/3277 [==============================] - 10s - loss: 0.0820 - acc: 0.9918 - val_loss: 0.7353 - val_acc: 0.9400\n",
      "Epoch 29/40\n",
      "3277/3277 [==============================] - 10s - loss: 0.0823 - acc: 0.9905 - val_loss: 0.7478 - val_acc: 0.9420\n",
      "Epoch 30/40\n",
      "3277/3277 [==============================] - 12s - loss: 0.1404 - acc: 0.9854 - val_loss: 0.5138 - val_acc: 0.9540\n",
      "Epoch 31/40\n",
      "3277/3277 [==============================] - 10s - loss: 0.1007 - acc: 0.9887 - val_loss: 0.6644 - val_acc: 0.9460\n",
      "Epoch 32/40\n",
      "3277/3277 [==============================] - 10s - loss: 0.1443 - acc: 0.9869 - val_loss: 0.5274 - val_acc: 0.9560\n",
      "Epoch 33/40\n",
      "3277/3277 [==============================] - 10s - loss: 0.1320 - acc: 0.9878 - val_loss: 0.7178 - val_acc: 0.9520\n",
      "Epoch 34/40\n",
      "3277/3277 [==============================] - 10s - loss: 0.1715 - acc: 0.9811 - val_loss: 0.5197 - val_acc: 0.9600\n",
      "Epoch 35/40\n",
      "3277/3277 [==============================] - 10s - loss: 0.1320 - acc: 0.9869 - val_loss: 0.6050 - val_acc: 0.9540\n",
      "Epoch 36/40\n",
      "3277/3277 [==============================] - 10s - loss: 0.1261 - acc: 0.9857 - val_loss: 0.6950 - val_acc: 0.9480\n",
      "Epoch 37/40\n",
      "3277/3277 [==============================] - 10s - loss: 0.1055 - acc: 0.9902 - val_loss: 0.5381 - val_acc: 0.9540\n",
      "Epoch 38/40\n",
      "3277/3277 [==============================] - 10s - loss: 0.1108 - acc: 0.9893 - val_loss: 0.5655 - val_acc: 0.9520\n",
      "Epoch 39/40\n",
      "3277/3277 [==============================] - 12s - loss: 0.0885 - acc: 0.9890 - val_loss: 0.4990 - val_acc: 0.9620\n",
      "Epoch 40/40\n",
      "3277/3277 [==============================] - 10s - loss: 0.0598 - acc: 0.9948 - val_loss: 0.5608 - val_acc: 0.9540\n"
     ]
    }
   ],
   "source": [
    "name = 'Exp1'\n",
    "historyList.append(fc_model.fit(trn_feat, trn_labels, nb_epoch = 40, validation_data=(val_feat, val_labels), callbacks=getCheckPoint(name)))"
   ]
  },
  {
   "cell_type": "markdown",
   "metadata": {},
   "source": [
    "# Plot loss and accuracy histories across epochs"
   ]
  },
  {
   "cell_type": "code",
   "execution_count": 93,
   "metadata": {
    "collapsed": false
   },
   "outputs": [
    {
     "data": {
      "image/png": "[encoded data removed]",
      "text/plain": [
       "<matplotlib.figure.Figure at 0x7fe072dd6d90>"
      ]
     },
     "metadata": {},
     "output_type": "display_data"
    },
    {
     "data": {
      "image/png": "[encoded data removed]",
      "text/plain": [
       "<matplotlib.figure.Figure at 0x7fe072d634d0>"
      ]
     },
     "metadata": {},
     "output_type": "display_data"
    }
   ],
   "source": [
    "plot_history(historyList,metric='acc', model_description='FC model on conv feat of VGG')\n",
    "plot_history(historyList, metric='loss', model_description='FC model on conv feat of VGG')"
   ]
  },
  {
   "cell_type": "code",
   "execution_count": null,
   "metadata": {
    "collapsed": true
   },
   "outputs": [],
   "source": []
  }
 ],
 "metadata": {
  "anaconda-cloud": {},
  "kernelspec": {
   "display_name": "Python [conda root]",
   "language": "python",
   "name": "conda-root-py"
  },
  "language_info": {
   "codemirror_mode": {
    "name": "ipython",
    "version": 2
   },
   "file_extension": ".py",
   "mimetype": "text/x-python",
   "name": "python",
   "nbconvert_exporter": "python",
   "pygments_lexer": "ipython2",
   "version": "2.7.12"
  }
 },
 "nbformat": 4,
 "nbformat_minor": 1
}
